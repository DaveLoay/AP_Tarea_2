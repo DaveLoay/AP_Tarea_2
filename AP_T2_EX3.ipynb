{
  "nbformat": 4,
  "nbformat_minor": 0,
  "metadata": {
    "colab": {
      "provenance": [],
      "authorship_tag": "ABX9TyMV3ZTX3cruV7KqMQ+C4emh",
      "include_colab_link": true
    },
    "kernelspec": {
      "name": "python3",
      "display_name": "Python 3"
    },
    "language_info": {
      "name": "python"
    },
    "gpuClass": "standard"
  },
  "cells": [
    {
      "cell_type": "markdown",
      "metadata": {
        "id": "view-in-github",
        "colab_type": "text"
      },
      "source": [
        "<a href=\"https://colab.research.google.com/github/DaveLoay/AP_Tarea_2/blob/main/AP_T2_EX3.ipynb\" target=\"_parent\"><img src=\"https://colab.research.google.com/assets/colab-badge.svg\" alt=\"Open In Colab\"/></a>"
      ]
    },
    {
      "cell_type": "markdown",
      "source": [
        "# Implementar una arquitectura RNN bidireccional con una capa GRU."
      ],
      "metadata": {
        "id": "mRhabHAI61V4"
      }
    },
    {
      "cell_type": "code",
      "execution_count": null,
      "metadata": {
        "colab": {
          "base_uri": "https://localhost:8080/"
        },
        "id": "K53ZmxKfb2qX",
        "outputId": "772009ca-9722-4bd5-c385-ebb3d22a2cde"
      },
      "outputs": [
        {
          "output_type": "stream",
          "name": "stdout",
          "text": [
            "Looking in indexes: https://pypi.org/simple, https://us-python.pkg.dev/colab-wheels/public/simple/\n",
            "Requirement already satisfied: torchinfo in /usr/local/lib/python3.7/dist-packages (1.7.1)\n",
            "Looking in indexes: https://pypi.org/simple, https://us-python.pkg.dev/colab-wheels/public/simple/\n",
            "Requirement already satisfied: zarr in /usr/local/lib/python3.7/dist-packages (2.12.0)\n",
            "Requirement already satisfied: numcodecs>=0.6.4 in /usr/local/lib/python3.7/dist-packages (from zarr) (0.10.2)\n",
            "Requirement already satisfied: asciitree in /usr/local/lib/python3.7/dist-packages (from zarr) (0.3.3)\n",
            "Requirement already satisfied: fasteners in /usr/local/lib/python3.7/dist-packages (from zarr) (0.18)\n",
            "Requirement already satisfied: numpy>=1.7 in /usr/local/lib/python3.7/dist-packages (from zarr) (1.21.6)\n",
            "Requirement already satisfied: typing-extensions>=3.7.4 in /usr/local/lib/python3.7/dist-packages (from numcodecs>=0.6.4->zarr) (4.1.1)\n",
            "Requirement already satisfied: entrypoints in /usr/local/lib/python3.7/dist-packages (from numcodecs>=0.6.4->zarr) (0.4)\n"
          ]
        }
      ],
      "source": [
        "# Colab\n",
        "# https://github.com/TylerYep/torchinfo\n",
        "!pip install torchinfo\n",
        "# https://zarr.readthedocs.io/en/stable/\n",
        "!pip install zarr\n",
        "\n"
      ]
    },
    {
      "cell_type": "code",
      "source": [
        "# sistema de archivos\n",
        "import os\n",
        "# funciones aleatorias\n",
        "import random\n",
        "# descomprimir\n",
        "import tarfile\n",
        "# sistema de archivos\n",
        "from os.path import join\n",
        "\n",
        "# arreglos multidimensionales\n",
        "import numpy as np\n",
        "# redes neuronales\n",
        "import torch\n",
        "import torch.nn as nn\n",
        "import torch.nn.functional as F\n",
        "import torch.optim as optim\n",
        "import torchvision.datasets.utils as tvu\n",
        "# almacenamiento de arreglos multidimensionales\n",
        "import zarr\n",
        "#redes\n",
        "from torch.utils.data import DataLoader, random_split\n",
        "# inspección de arquitectura\n",
        "from torchinfo import summary\n",
        "\n",
        "# directorio de datos\n",
        "DATA_DIR = '../data'\n",
        "\n",
        "# tamaño del lote\n",
        "BATCH_SIZE = 32\n",
        "# tamaño del vector de características\n",
        "FEAT_SIZE = 1024\n",
        "\n",
        "# reproducibilidad\n",
        "SEED = 0\n",
        "random.seed(SEED)\n",
        "np.random.seed(SEED)\n",
        "torch_gen = torch.manual_seed(SEED)"
      ],
      "metadata": {
        "id": "I2eYGaTQdXOc"
      },
      "execution_count": null,
      "outputs": []
    },
    {
      "cell_type": "markdown",
      "source": [
        "# Datos"
      ],
      "metadata": {
        "id": "g4bS8uksdoxP"
      }
    },
    {
      "cell_type": "code",
      "source": [
        "class UCF11:\n",
        "\n",
        "    def __init__(self, root, download=False):\n",
        "        self.root = root\n",
        "        self.zarr_dir = join(root, 'ucf11.zarr')\n",
        "        if download:\n",
        "            self.download()\n",
        "        self.z = zarr.open(self.zarr_dir, 'r')\n",
        "        self.paths = list(self.z.array_keys())\n",
        "        \n",
        "    def __getitem__(self, i):\n",
        "        arr = self.z[self.paths[i]]\n",
        "        x = np.array(arr)\n",
        "        y = np.array(arr.attrs['y'], dtype=np.int64)\n",
        "        return x, y\n",
        "\n",
        "    def __len__(self):\n",
        "        return len(self.paths)\n",
        "    \n",
        "    def _check_integrity(self):\n",
        "        return os.path.isdir(self.zarr_dir)\n",
        "    \n",
        "    def _extract(self, root, filename):\n",
        "        tar = tarfile.open(join(root, filename), \"r:gz\")\n",
        "        tar.extractall(root)\n",
        "        tar.close()\n",
        "\n",
        "    def download(self):\n",
        "        if self._check_integrity():\n",
        "            print('Files already downloaded and verified')\n",
        "            return\n",
        "        tvu.download_url(\n",
        "            url='https://cloud.xibalba.com.mx/s/apYrNA4iM4K65o7/download',\n",
        "            root=self.root,\n",
        "            filename='ucf11.zarr.tar.gz',\n",
        "            md5='c8a82454f9ec092d00bcd99c849e03fd'\n",
        "        )\n",
        "        self._extract(self.root, 'ucf11.zarr.tar.gz')\n"
      ],
      "metadata": {
        "id": "VEO3CG1bdkfk"
      },
      "execution_count": null,
      "outputs": []
    },
    {
      "cell_type": "code",
      "source": [
        "ds = UCF11(join(DATA_DIR, 'ucf11'), True)\n",
        "x, y = ds[0]\n",
        "print(f'x shape={x.shape} dtype={x.dtype}')\n",
        "print(f'x [0][:5]={x[0][:5]}')\n",
        "print(f'y shape={y.shape} dtype={y.dtype} {y}')\n",
        "print(f'y {y}')"
      ],
      "metadata": {
        "colab": {
          "base_uri": "https://localhost:8080/"
        },
        "id": "Ss-7Jj0odoBe",
        "outputId": "ab0cb9e5-7f1d-47af-c9d3-ab28d70ef17f"
      },
      "execution_count": null,
      "outputs": [
        {
          "output_type": "stream",
          "name": "stdout",
          "text": [
            "Files already downloaded and verified\n",
            "x shape=(10, 1024) dtype=float32\n",
            "x [0][:5]=[0.00022111 0.00368518 0.00314753 0.00201778 0.09296297]\n",
            "y shape=() dtype=int64 0\n",
            "y 0\n"
          ]
        }
      ]
    },
    {
      "cell_type": "code",
      "source": [
        "trn_size = int(0.8 * len(ds))\n",
        "tst_size = len(ds) - trn_size\n",
        "trn_ds, tst_ds = random_split(ds, [trn_size, tst_size])\n",
        "len(trn_ds), len(tst_ds)"
      ],
      "metadata": {
        "colab": {
          "base_uri": "https://localhost:8080/"
        },
        "id": "cpS6Vqj6dyzZ",
        "outputId": "45652e5a-f146-4e75-cfbc-be488b872437"
      },
      "execution_count": null,
      "outputs": [
        {
          "output_type": "execute_result",
          "data": {
            "text/plain": [
              "(1279, 320)"
            ]
          },
          "metadata": {},
          "execution_count": 5
        }
      ]
    },
    {
      "cell_type": "code",
      "source": [
        "trn_dl = DataLoader(\n",
        "    # conjunto\n",
        "    trn_ds,\n",
        "    # tamaño del lote\n",
        "    batch_size=BATCH_SIZE,\n",
        "    # desordenar\n",
        "    shuffle=True,\n",
        "    # procesos paralelos\n",
        "    num_workers=2\n",
        ")\n",
        "tst_dl = DataLoader(\n",
        "    # conjunto\n",
        "    tst_ds,\n",
        "    # tamaño del lote\n",
        "    batch_size=BATCH_SIZE,\n",
        "    # desordenar\n",
        "    shuffle=True,\n",
        "    # procesos paralelos\n",
        "    num_workers=2\n",
        ")\n"
      ],
      "metadata": {
        "id": "dxpNuKEWd_q_"
      },
      "execution_count": null,
      "outputs": []
    },
    {
      "cell_type": "code",
      "source": [
        "x, y = next(iter(trn_dl))\n",
        "print(f'x shape={x.shape} dtype={x.dtype}')\n",
        "print(f'y shape={y.shape} dtype={y.dtype}')"
      ],
      "metadata": {
        "colab": {
          "base_uri": "https://localhost:8080/"
        },
        "id": "QLJTS65GeDTc",
        "outputId": "0d932ae1-a3e7-4c01-ea36-c90a971cadea"
      },
      "execution_count": null,
      "outputs": [
        {
          "output_type": "stream",
          "name": "stdout",
          "text": [
            "x shape=torch.Size([32, 10, 1024]) dtype=torch.float32\n",
            "y shape=torch.Size([32]) dtype=torch.int64\n"
          ]
        }
      ]
    },
    {
      "cell_type": "markdown",
      "source": [
        "#Modelo"
      ],
      "metadata": {
        "id": "RKfK4HFCeHT9"
      }
    },
    {
      "cell_type": "code",
      "source": [
        "class RNN(nn.Module):\n",
        "\n",
        "    def __init__(self, input_size=1024, hidden_size=128, num_classes=11):\n",
        "        super().__init__()\n",
        "        self.bn = nn.BatchNorm1d(input_size)\n",
        "        self.rnn = nn.GRU(input_size=input_size, hidden_size=hidden_size,\n",
        "                          num_layers=1, batch_first=True)\n",
        "        self.cls = nn.Linear(hidden_size, num_classes)\n",
        "\n",
        "    def forward(self, x):\n",
        "        # Batch, Seq, Feats, Hidden\n",
        "        # [B, S, F] => [B, F, S]\n",
        "        x = x.movedim(1, 2)\n",
        "        # [B, F, S]\n",
        "        x = self.bn(x)\n",
        "        # [B, F, S] => [B, S, F]\n",
        "        x = x.movedim(1, 2)\n",
        "        # [B, S, F] => [B, S, H]\n",
        "        x, _ = self.rnn(x)\n",
        "        # [B, S, H] => [B, H]\n",
        "        # toma el último paso, participación 1\n",
        "        x = x[:, -1, :]\n",
        "        # [B, H] = [B, 11]\n",
        "        x = self.cls(x)\n",
        "        return x"
      ],
      "metadata": {
        "id": "Wh_1onlWeJCR"
      },
      "execution_count": null,
      "outputs": []
    },
    {
      "cell_type": "code",
      "source": [
        "model = RNN().eval()\n",
        "model(torch.zeros(1, 10, 1024)).shape"
      ],
      "metadata": {
        "colab": {
          "base_uri": "https://localhost:8080/"
        },
        "id": "EiPKWtSKeLMJ",
        "outputId": "74c6d0b6-190f-4a45-c1cd-90a9f2722be0"
      },
      "execution_count": null,
      "outputs": [
        {
          "output_type": "execute_result",
          "data": {
            "text/plain": [
              "torch.Size([1, 11])"
            ]
          },
          "metadata": {},
          "execution_count": 9
        }
      ]
    },
    {
      "cell_type": "markdown",
      "source": [
        "#Inspección de arquitectura"
      ],
      "metadata": {
        "id": "zRbCo6txePJ5"
      }
    },
    {
      "cell_type": "code",
      "source": [
        "summary(model, (1, 10, 1024), device='cpu', verbose=0)"
      ],
      "metadata": {
        "colab": {
          "base_uri": "https://localhost:8080/"
        },
        "id": "1klZ9nsyeMk-",
        "outputId": "0e67fb83-6874-4fee-dbbd-b356ca3f807a"
      },
      "execution_count": null,
      "outputs": [
        {
          "output_type": "execute_result",
          "data": {
            "text/plain": [
              "==========================================================================================\n",
              "Layer (type:depth-idx)                   Output Shape              Param #\n",
              "==========================================================================================\n",
              "RNN                                      [1, 11]                   --\n",
              "├─BatchNorm1d: 1-1                       [1, 1024, 10]             2,048\n",
              "├─GRU: 1-2                               [1, 10, 128]              443,136\n",
              "├─Linear: 1-3                            [1, 11]                   1,419\n",
              "==========================================================================================\n",
              "Total params: 446,603\n",
              "Trainable params: 446,603\n",
              "Non-trainable params: 0\n",
              "Total mult-adds (M): 4.43\n",
              "==========================================================================================\n",
              "Input size (MB): 0.04\n",
              "Forward/backward pass size (MB): 0.09\n",
              "Params size (MB): 1.79\n",
              "Estimated Total Size (MB): 1.92\n",
              "=========================================================================================="
            ]
          },
          "metadata": {},
          "execution_count": 10
        }
      ]
    },
    {
      "cell_type": "code",
      "source": [
        "# optimizador\n",
        "opt = optim.Adam(model.parameters(), lr=1e-3)\n",
        "\n",
        "# ciclo de entrenamiento\n",
        "EPOCHS = 10\n",
        "for epoch in range(EPOCHS):\n",
        "\n",
        "    # modelo en modo de entrenamiento\n",
        "    model.train()\n",
        "    \n",
        "    # entrenamiento de una época\n",
        "    for x, y_true in trn_dl:\n",
        "        # hacemos inferencia para obtener los logits\n",
        "        y_lgts = model(x)\n",
        "        # calculamos la pérdida\n",
        "        loss = F.cross_entropy(y_lgts, y_true)\n",
        "        # vaciamos los gradientes\n",
        "        opt.zero_grad()\n",
        "        # retropropagamos\n",
        "        loss.backward()\n",
        "        # actulizamos parámetros\n",
        "        opt.step()\n",
        "\n",
        "    # desactivamos temporalmente la gráfica de cómputo\n",
        "    with torch.no_grad():\n",
        "\n",
        "        # modelo en modo de evaluación\n",
        "        model.eval()\n",
        "        \n",
        "        losses, accs = [], []\n",
        "        # validación de la época\n",
        "        for x, y_true in tst_dl:\n",
        "            # hacemos inferencia para obtener los logits\n",
        "            y_lgts = model(x)\n",
        "            # calculamos las probabilidades\n",
        "            y_prob = F.softmax(y_lgts, 1)\n",
        "            # obtenemos la clase predicha\n",
        "            y_pred = torch.argmax(y_prob, 1)\n",
        "            \n",
        "            # calculamos la pérdida\n",
        "            loss = F.cross_entropy(y_lgts, y_true)\n",
        "            # calculamos la exactitud\n",
        "            acc = (y_true == y_pred).type(torch.float32).mean()\n",
        "\n",
        "            # guardamos históricos\n",
        "            losses.append(loss.item() * 100)\n",
        "            accs.append(acc.item() * 100)\n",
        "\n",
        "        # imprimimos métricas\n",
        "        loss = np.mean(losses)\n",
        "        acc = np.mean(accs)\n",
        "        print(f'E{epoch:2} loss={loss:6.2f} acc={acc:.2f}')"
      ],
      "metadata": {
        "colab": {
          "base_uri": "https://localhost:8080/"
        },
        "id": "6ojP6fmeeRwT",
        "outputId": "47929a14-3c42-4ccc-f8e0-aab28b61529d"
      },
      "execution_count": null,
      "outputs": [
        {
          "output_type": "stream",
          "name": "stdout",
          "text": [
            "E 0 loss=202.30 acc=32.19\n",
            "E 1 loss=178.21 acc=42.81\n",
            "E 2 loss=165.81 acc=46.56\n",
            "E 3 loss=158.54 acc=48.75\n",
            "E 4 loss=147.89 acc=51.25\n",
            "E 5 loss=147.74 acc=53.75\n",
            "E 6 loss=149.61 acc=51.88\n",
            "E 7 loss=144.33 acc=53.12\n",
            "E 8 loss=148.34 acc=55.31\n",
            "E 9 loss=145.79 acc=53.12\n"
          ]
        }
      ]
    },
    {
      "cell_type": "markdown",
      "source": [
        "# 3.- Implementar una arquitectura CNN con una capa Conv1d."
      ],
      "metadata": {
        "id": "bCLrAkmThZ-m"
      }
    },
    {
      "cell_type": "markdown",
      "source": [
        "# Modelo"
      ],
      "metadata": {
        "id": "-Q_HYJkxkmZ9"
      }
    },
    {
      "cell_type": "code",
      "source": [
        "from torch.nn.modules.activation import ReLU\n",
        "class CNN(nn.Module):\n",
        "\n",
        "    def __init__(self, input_size=1024, hidden_size=128, num_classes=11):\n",
        "        super().__init__()\n",
        "        self.cnn = nn.Sequential(\n",
        "           nn.Conv1d(input_size,hidden_size,kernel_size=2),\n",
        "           nn.Dropout(p=0.4),\n",
        "           nn.ReLU(),\n",
        "           nn.MaxPool2d(kernel_size=2, stride=2),\n",
        "       )\n",
        "        self.flatten = nn.Flatten()\n",
        "        self.cls = nn.Linear(256,num_classes)\n",
        "\n",
        "    def forward(self, x):\n",
        "        # Batch, Seq, Feats, Hidden\n",
        "        # [B, S, F] => [B, F, S]\n",
        "        x = x.movedim(1, 2)\n",
        "        # [B, F, S]\n",
        "        # x = self.bn(x)\n",
        "        # [B, F, S] => [B, S, F]\n",
        "        # x = x.movedim(1, 2)\n",
        "        # [B, S, F] => [B, S, H]\n",
        "        # x, _ = self.conv1(x)\n",
        "        x = self.cnn(x)\n",
        "        # [B, S, H] => [B, H]\n",
        "        # toma el último paso, participación 1\n",
        "        # x = x[:, -1, :]\n",
        "        # [B, H] = [B, 11]\n",
        "        x = self.flatten(x)\n",
        "        x = self.cls(x)\n",
        "        return x"
      ],
      "metadata": {
        "id": "5UcpnyASkl_U"
      },
      "execution_count": null,
      "outputs": []
    },
    {
      "cell_type": "code",
      "source": [
        "model = CNN().eval()\n",
        "model(torch.zeros(1, 10, 1024)).shape"
      ],
      "metadata": {
        "colab": {
          "base_uri": "https://localhost:8080/"
        },
        "id": "UAqx6q57hazW",
        "outputId": "e72e8c29-e85d-4bb6-fb94-348a13d120a1"
      },
      "execution_count": null,
      "outputs": [
        {
          "output_type": "execute_result",
          "data": {
            "text/plain": [
              "torch.Size([1, 11])"
            ]
          },
          "metadata": {},
          "execution_count": 13
        }
      ]
    },
    {
      "cell_type": "code",
      "source": [
        "summary(model, (1, 10, 1024), device='cpu', verbose=0)"
      ],
      "metadata": {
        "colab": {
          "base_uri": "https://localhost:8080/"
        },
        "id": "Z5vysfHsryxR",
        "outputId": "d8d08c26-df81-440d-a505-ff60f11ff3c3"
      },
      "execution_count": null,
      "outputs": [
        {
          "output_type": "execute_result",
          "data": {
            "text/plain": [
              "==========================================================================================\n",
              "Layer (type:depth-idx)                   Output Shape              Param #\n",
              "==========================================================================================\n",
              "CNN                                      [1, 11]                   --\n",
              "├─Sequential: 1-1                        [1, 64, 4]                --\n",
              "│    └─Conv1d: 2-1                       [1, 128, 9]               262,272\n",
              "│    └─Dropout: 2-2                      [1, 128, 9]               --\n",
              "│    └─ReLU: 2-3                         [1, 128, 9]               --\n",
              "│    └─MaxPool2d: 2-4                    [1, 64, 4]                --\n",
              "├─Flatten: 1-2                           [1, 256]                  --\n",
              "├─Linear: 1-3                            [1, 11]                   2,827\n",
              "==========================================================================================\n",
              "Total params: 265,099\n",
              "Trainable params: 265,099\n",
              "Non-trainable params: 0\n",
              "Total mult-adds (M): 2.36\n",
              "==========================================================================================\n",
              "Input size (MB): 0.04\n",
              "Forward/backward pass size (MB): 0.01\n",
              "Params size (MB): 1.06\n",
              "Estimated Total Size (MB): 1.11\n",
              "=========================================================================================="
            ]
          },
          "metadata": {},
          "execution_count": 14
        }
      ]
    },
    {
      "cell_type": "code",
      "source": [
        "# optimizador\n",
        "opt = optim.Adam(model.parameters(), lr=1e-3)\n",
        "\n",
        "# ciclo de entrenamiento\n",
        "EPOCHS = 10\n",
        "for epoch in range(EPOCHS):\n",
        "\n",
        "    # modelo en modo de entrenamiento\n",
        "    model.train()\n",
        "    \n",
        "    # entrenamiento de una época\n",
        "    for x, y_true in trn_dl:\n",
        "        # hacemos inferencia para obtener los logits\n",
        "        y_lgts = model(x)\n",
        "        # calculamos la pérdida\n",
        "        loss = F.cross_entropy(y_lgts, y_true)\n",
        "        # vaciamos los gradientes\n",
        "        opt.zero_grad()\n",
        "        # retropropagamos\n",
        "        loss.backward()\n",
        "        # actulizamos parámetros\n",
        "        opt.step()\n",
        "\n",
        "    # desactivamos temporalmente la gráfica de cómputo\n",
        "    with torch.no_grad():\n",
        "\n",
        "        # modelo en modo de evaluación\n",
        "        model.eval()\n",
        "        \n",
        "        losses, accs = [], []\n",
        "        # validación de la época\n",
        "        for x, y_true in tst_dl:\n",
        "            # hacemos inferencia para obtener los logits\n",
        "            y_lgts = model(x)\n",
        "            # calculamos las probabilidades\n",
        "            y_prob = F.softmax(y_lgts, 1)\n",
        "            # obtenemos la clase predicha\n",
        "            y_pred = torch.argmax(y_prob, 1)\n",
        "            \n",
        "            # calculamos la pérdida\n",
        "            loss = F.cross_entropy(y_lgts, y_true)\n",
        "            # calculamos la exactitud\n",
        "            acc = (y_true == y_pred).type(torch.float32).mean()\n",
        "\n",
        "            # guardamos históricos\n",
        "            losses.append(loss.item() * 100)\n",
        "            accs.append(acc.item() * 100)\n",
        "\n",
        "        # imprimimos métricas\n",
        "        loss = np.mean(losses)\n",
        "        acc = np.mean(accs)\n",
        "        print(f'E{epoch:2} loss={loss:6.2f} acc={acc:.2f}')"
      ],
      "metadata": {
        "colab": {
          "base_uri": "https://localhost:8080/"
        },
        "id": "7rGSUOyMlgTf",
        "outputId": "b19d2b79-3216-43da-86ab-ccae3b591067"
      },
      "execution_count": null,
      "outputs": [
        {
          "output_type": "stream",
          "name": "stdout",
          "text": [
            "E 0 loss=223.30 acc=27.81\n",
            "E 1 loss=217.02 acc=26.56\n",
            "E 2 loss=205.83 acc=29.38\n",
            "E 3 loss=201.44 acc=34.69\n",
            "E 4 loss=195.29 acc=35.94\n",
            "E 5 loss=191.18 acc=33.44\n",
            "E 6 loss=186.33 acc=39.06\n",
            "E 7 loss=184.82 acc=39.38\n",
            "E 8 loss=179.29 acc=42.81\n",
            "E 9 loss=178.52 acc=39.38\n"
          ]
        }
      ]
    },
    {
      "cell_type": "markdown",
      "source": [
        "# Modificar el tamaño de las capas para que ambos modelos tengan un número similar de parámetros."
      ],
      "metadata": {
        "id": "UbB5KB3f0QCV"
      }
    },
    {
      "cell_type": "markdown",
      "source": [
        "# Modelo"
      ],
      "metadata": {
        "id": "OptIOxbq0XJd"
      }
    },
    {
      "cell_type": "code",
      "source": [
        "from torch.nn.modules.activation import ReLU\n",
        "class CNN2(nn.Module):\n",
        "\n",
        "    def __init__(self, input_size=1024, hidden_size=128, num_classes=11):\n",
        "        super().__init__()\n",
        "        self.cnn = nn.Sequential(\n",
        "           nn.Conv1d(input_size,hidden_size,kernel_size=3),\n",
        "           nn.Dropout(p=0.4),\n",
        "           nn.ReLU(),\n",
        "           nn.MaxPool2d(kernel_size=3, stride=2),\n",
        "       )\n",
        "        self.flatten = nn.Flatten()\n",
        "        self.cls = nn.Linear(189,num_classes)\n",
        "\n",
        "    def forward(self, x):\n",
        "        # Batch, Seq, Feats, Hidden\n",
        "        # [B, S, F] => [B, F, S]\n",
        "        x = x.movedim(1, 2)\n",
        "        # [B, F, S]\n",
        "        # x = self.bn(x)\n",
        "        # [B, F, S] => [B, S, F]\n",
        "        # x = x.movedim(1, 2)\n",
        "        # [B, S, F] => [B, S, H]\n",
        "        # x, _ = self.conv1(x)\n",
        "        x = self.cnn(x)\n",
        "        # [B, S, H] => [B, H]\n",
        "        # toma el último paso, participación 1\n",
        "        # x = x[:, -1, :]\n",
        "        # [B, H] = [B, 11]\n",
        "        x = self.flatten(x)\n",
        "        x = self.cls(x)\n",
        "        return x"
      ],
      "metadata": {
        "id": "Bb3ak2UWtCOs"
      },
      "execution_count": null,
      "outputs": []
    },
    {
      "cell_type": "code",
      "source": [
        "model = CNN2().eval()\n",
        "model(torch.zeros(1, 10, 1024)).shape"
      ],
      "metadata": {
        "colab": {
          "base_uri": "https://localhost:8080/"
        },
        "id": "aAZZ7CPB0qD4",
        "outputId": "dd8992a2-d7c3-46ce-ec3d-f9a714e268e6"
      },
      "execution_count": null,
      "outputs": [
        {
          "output_type": "execute_result",
          "data": {
            "text/plain": [
              "torch.Size([1, 11])"
            ]
          },
          "metadata": {},
          "execution_count": 17
        }
      ]
    },
    {
      "cell_type": "code",
      "source": [
        "summary(model, (1, 10, 1024), device='cpu', verbose=0)"
      ],
      "metadata": {
        "colab": {
          "base_uri": "https://localhost:8080/"
        },
        "id": "5S3GGFBI0wQc",
        "outputId": "b4dc57e2-1793-429c-fdca-f33cd2d4c295"
      },
      "execution_count": null,
      "outputs": [
        {
          "output_type": "execute_result",
          "data": {
            "text/plain": [
              "==========================================================================================\n",
              "Layer (type:depth-idx)                   Output Shape              Param #\n",
              "==========================================================================================\n",
              "CNN2                                     [1, 11]                   --\n",
              "├─Sequential: 1-1                        [1, 63, 3]                --\n",
              "│    └─Conv1d: 2-1                       [1, 128, 8]               393,344\n",
              "│    └─Dropout: 2-2                      [1, 128, 8]               --\n",
              "│    └─ReLU: 2-3                         [1, 128, 8]               --\n",
              "│    └─MaxPool2d: 2-4                    [1, 63, 3]                --\n",
              "├─Flatten: 1-2                           [1, 189]                  --\n",
              "├─Linear: 1-3                            [1, 11]                   2,090\n",
              "==========================================================================================\n",
              "Total params: 395,434\n",
              "Trainable params: 395,434\n",
              "Non-trainable params: 0\n",
              "Total mult-adds (M): 3.15\n",
              "==========================================================================================\n",
              "Input size (MB): 0.04\n",
              "Forward/backward pass size (MB): 0.01\n",
              "Params size (MB): 1.58\n",
              "Estimated Total Size (MB): 1.63\n",
              "=========================================================================================="
            ]
          },
          "metadata": {},
          "execution_count": 18
        }
      ]
    },
    {
      "cell_type": "code",
      "source": [
        "# optimizador\n",
        "opt = optim.Adam(model.parameters(), lr=1e-3)\n",
        "\n",
        "# ciclo de entrenamiento\n",
        "EPOCHS = 10\n",
        "for epoch in range(EPOCHS):\n",
        "\n",
        "    # modelo en modo de entrenamiento\n",
        "    model.train()\n",
        "    \n",
        "    # entrenamiento de una época\n",
        "    for x, y_true in trn_dl:\n",
        "        # hacemos inferencia para obtener los logits\n",
        "        y_lgts = model(x)\n",
        "        # calculamos la pérdida\n",
        "        loss = F.cross_entropy(y_lgts, y_true)\n",
        "        # vaciamos los gradientes\n",
        "        opt.zero_grad()\n",
        "        # retropropagamos\n",
        "        loss.backward()\n",
        "        # actulizamos parámetros\n",
        "        opt.step()\n",
        "\n",
        "    # desactivamos temporalmente la gráfica de cómputo\n",
        "    with torch.no_grad():\n",
        "\n",
        "        # modelo en modo de evaluación\n",
        "        model.eval()\n",
        "        \n",
        "        losses, accs = [], []\n",
        "        # validación de la época\n",
        "        for x, y_true in tst_dl:\n",
        "            # hacemos inferencia para obtener los logits\n",
        "            y_lgts = model(x)\n",
        "            # calculamos las probabilidades\n",
        "            y_prob = F.softmax(y_lgts, 1)\n",
        "            # obtenemos la clase predicha\n",
        "            y_pred = torch.argmax(y_prob, 1)\n",
        "            \n",
        "            # calculamos la pérdida\n",
        "            loss = F.cross_entropy(y_lgts, y_true)\n",
        "            # calculamos la exactitud\n",
        "            acc = (y_true == y_pred).type(torch.float32).mean()\n",
        "\n",
        "            # guardamos históricos\n",
        "            losses.append(loss.item() * 100)\n",
        "            accs.append(acc.item() * 100)\n",
        "\n",
        "        # imprimimos métricas\n",
        "        loss = np.mean(losses)\n",
        "        acc = np.mean(accs)\n",
        "        print(f'E{epoch:2} loss={loss:6.2f} acc={acc:.2f}')"
      ],
      "metadata": {
        "colab": {
          "base_uri": "https://localhost:8080/"
        },
        "id": "i1t_9Ahi03Dn",
        "outputId": "27119d54-78db-47a4-88a9-d383551a464a"
      },
      "execution_count": null,
      "outputs": [
        {
          "output_type": "stream",
          "name": "stdout",
          "text": [
            "E 0 loss=223.79 acc=24.06\n",
            "E 1 loss=216.21 acc=28.12\n",
            "E 2 loss=208.91 acc=27.50\n",
            "E 3 loss=201.43 acc=33.44\n",
            "E 4 loss=198.06 acc=36.88\n",
            "E 5 loss=190.10 acc=38.12\n",
            "E 6 loss=190.42 acc=38.75\n",
            "E 7 loss=181.84 acc=42.81\n",
            "E 8 loss=177.44 acc=44.38\n",
            "E 9 loss=172.77 acc=45.00\n"
          ]
        }
      ]
    },
    {
      "cell_type": "markdown",
      "source": [
        "# Discusión"
      ],
      "metadata": {
        "id": "wem6hy4D7FoL"
      }
    },
    {
      "cell_type": "markdown",
      "source": [
        "Se observó que la red con el bloque GRU con conexiones recursivas, tienen un mejor comportamiento en términos de eficiencia, a diferencia del modelo convolucional no recursivo, sin embargo, eso se reflejo en el tiempo de entrenamiento (a pesar de ser modelos pequeños). Una vez que se modificaron las redes para tener parámetros similares, el desempeño de ambas redes también fue similar, de tal forma que el modelo con el bloque GRU continuó teniendo un mejor desempeño, pero la diferencia entre ambos modelos era menor al $\\%10$. "
      ],
      "metadata": {
        "id": "Q2ADzRMa7tbf"
      }
    }
  ]
}